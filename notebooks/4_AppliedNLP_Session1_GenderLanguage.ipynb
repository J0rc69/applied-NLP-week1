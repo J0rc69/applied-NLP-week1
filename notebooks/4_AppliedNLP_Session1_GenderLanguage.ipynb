{
 "cells": [
  {
   "cell_type": "markdown",
   "id": "0a2afd36",
   "metadata": {},
   "source": [
    "# 4) Gender in the Text: Pronouns & Nearby Verbs\n",
    "\n",
    "**Goal:** Compare relative frequency of pronouns and the verbs near them."
   ]
  },
  {
   "cell_type": "markdown",
   "id": "cfc0a06d",
   "metadata": {},
   "source": [
    "# Setup: Load Texts\n",
    "\n",
    "This notebook needs **Alice in Wonderland** and **Through the Looking-Glass** as input texts.\n",
    "\n",
    "**How to provide the texts:**\n",
    "1. Download books from Project Gutenberg (IDs 11 and 12) as txts. [go to https://www.gutenberg.org/ebooks/11 and https://www.gutenberg.org/ebooks/12]\n",
    "\n",
    "2. Place two text files in the \"data\" folder with names:\n",
    "   - `Wondeland.txt`  (Alice's Adventures in Wonderland)\n",
    "   - `Looking-Glass.txt` (Through the Looking-Glass)"
   ]
  },
  {
   "cell_type": "code",
   "execution_count": null,
   "id": "7adbbb67",
   "metadata": {},
   "outputs": [],
   "source": [
    "import re\n",
    "from pathlib import Path"
   ]
  },
  {
   "cell_type": "code",
   "execution_count": null,
   "id": "a71b8216",
   "metadata": {},
   "outputs": [],
   "source": [
    "\n",
    "def load_texts(local_alice: str = '../data/Wonderland.txt',\n",
    "               local_glass: str = '../data/Looking-Glass.txt'):\n",
    "    \"\"\"Load Wonderland and Looking-Glass texts from disk.\n",
    "\n",
    "    Parameters\n",
    "    ----------\n",
    "    local_alice : str\n",
    "        Path to Wonderland text file. Defaults to '../data/Wonderland.txt'.\n",
    "    local_glass : str\n",
    "        Path to Looking-Glass text file. Defaults to '../data/Looking-Glass.txt'.\n",
    "\n",
    "    Returns\n",
    "    -------\n",
    "    tuple[str, str]\n",
    "        (wonderland_text, lookingglass_text).\n",
    "\n",
    "    Raises\n",
    "    ------\n",
    "    FileNotFoundError\n",
    "        If either file is missing.\n",
    "\n",
    "    Extra Notes\n",
    "    -----------\n",
    "    - Using UTF-8 with `errors='ignore'` avoids codec exceptions on\n",
    "      older Project Gutenberg dumps or inconsistent encodings.\n",
    "    \"\"\"\n",
    "    p1, p2 = Path(local_alice), Path(local_glass)\n",
    "\n",
    "    # Fail fast with a clear message if a file is missing\n",
    "    if not p1.exists():\n",
    "        raise FileNotFoundError(\n",
    "            f\"Missing file: {p1}\\n\"\n",
    "            \"→ Please place 'Wonderland.txt' at this path or update load_texts(...).\"\n",
    "        )\n",
    "    if not p2.exists():\n",
    "        raise FileNotFoundError(\n",
    "            f\"Missing file: {p2}\\n\"\n",
    "            \"→ Please place 'Looking-Glass.txt' at this path or update load_texts(...).\"\n",
    "        )\n",
    "\n",
    "    # Read the files (UTF-8; ignore undecodable bytes to stay robust)\n",
    "    wonderland   = p1.read_text(encoding='utf-8', errors='ignore')\n",
    "    lookingglass = p2.read_text(encoding='utf-8', errors='ignore')\n",
    "    return wonderland, lookingglass\n",
    "\n",
    "def normalize(text: str) -> str:\n",
    "    \"\"\"Normalize a Gutenberg-like text for tokenization.\n",
    "\n",
    "    Steps\n",
    "    -----\n",
    "    1) Heuristically strip Project Gutenberg headers/footers if present\n",
    "       (looks for *** START ... *** END markers).\n",
    "    2) Normalize newlines to '\\n'.\n",
    "\n",
    "    Parameters\n",
    "    ----------\n",
    "    text : str\n",
    "        Raw text as loaded from disk (can be empty).\n",
    "\n",
    "    Returns\n",
    "    -------\n",
    "    str\n",
    "        Cleaned text suitable for tokenization and counting.\n",
    "    \"\"\"\n",
    "    if not text:\n",
    "        return ''\n",
    "    # Clip to the main body if markers are present.\n",
    "    start = text.find('*** START')\n",
    "    end   = text.find('*** END')\n",
    "    if start != -1 and end != -1 and end > start:\n",
    "        text = text[start:end]\n",
    "    # Normalize Windows line endings.\n",
    "    return text.replace('\\r\\n', '\\n')\n",
    "\n",
    "# Load raw texts (forgiving: returns '' if a file is missing)\n",
    "wonderland_raw, lookingglass_raw = load_texts()\n",
    "\n",
    "# Normalize for tokenization\n",
    "wonderland   = normalize(wonderland_raw)\n",
    "lookingglass = normalize(lookingglass_raw)\n",
    "\n",
    "print(f\"Wonderland chars: {len(wonderland):,} | Looking-Glass chars: {len(lookingglass):,}\")\n"
   ]
  },
  {
   "cell_type": "markdown",
   "id": "a244de30",
   "metadata": {},
   "source": [
    "### Helpers: Tokenization"
   ]
  },
  {
   "cell_type": "code",
   "execution_count": null,
   "id": "5d13d65e",
   "metadata": {},
   "outputs": [],
   "source": [
    "WORD_RE = re.compile(r\"[A-Za-z']+\")  # keep apostrophes in words (e.g., don't -> don't)\n",
    "\n",
    "def words(text: str):\n",
    "    \"\"\"Simple word tokenizer (lowercased, ASCII letters + apostrophes).\n",
    "\n",
    "    Pros\n",
    "    ----\n",
    "    - Very fast and dependency-free.\n",
    "    - Good enough for frequency/keyness demonstrations.\n",
    "\n",
    "    Cons\n",
    "    ----\n",
    "    - No punctuation words, no sentence boundaries, no POS tags.\n",
    "    - May treat possessives inconsistently across sources.\n",
    "\n",
    "    Returns\n",
    "    -------\n",
    "    list[str]\n",
    "        Lowercased word words.\n",
    "    \"\"\"\n",
    "    return WORD_RE.findall(text.lower())\n",
    "\n",
    "\n",
    "def sentences(text: str):\n",
    "    \"\"\"Naive sentence splitter using punctuation boundaries.\n",
    "\n",
    "    Uses a regex to split on '.', '!', '?' followed by whitespace.\n",
    "    Because this is heuristic, treat results as approximate.\n",
    "\n",
    "    Returns\n",
    "    -------\n",
    "    list[str]\n",
    "        Sentence-like strings.\n",
    "    \"\"\"\n",
    "    return [s.strip() for s in re.split(r'(?<=[.!?])\\s+', text) if s.strip()]\n",
    "\n",
    "\n",
    "\n",
    "wonderland_words = words(wonderland)\n",
    "lookingglass_words = words(lookingglass)\n",
    "\n",
    "wonderland_sentences = sentences(wonderland)\n",
    "lookingglass_sentences = sentences(lookingglass)\n",
    "\n",
    "print(f\"Wonderland words: {len(wonderland_words):,} | Looking-Glass words: {len(lookingglass_words):,}\")\n",
    "print(f\"Wonderland sentences: {len(wonderland_sentences):,} | Looking Glass sentences: {len(lookingglass_sentences):,}\")\n"
   ]
  },
  {
   "cell_type": "markdown",
   "id": "731c3054",
   "metadata": {},
   "source": [
    "### Pronoun Balance"
   ]
  },
  {
   "cell_type": "code",
   "execution_count": null,
   "id": "9daef9e8",
   "metadata": {},
   "outputs": [],
   "source": [
    "\n",
    "from collections import Counter\n",
    "def pronoun_counts(tokens):\n",
    "    target = {'he','she','him','her'}\n",
    "    c = Counter(w for w in tokens if w in target)\n",
    "    total = sum(c.values())\n",
    "    return c, total\n",
    "\n",
    "a_c, a_tot = pronoun_counts(wonderland_words)\n",
    "g_c, g_tot = pronoun_counts(lookingglass_words)\n",
    "print(\"Wonderland:\", dict(a_c), \"total:\", a_tot)\n",
    "print(\"LookingGlass:\", dict(g_c), \"total:\", g_tot)\n"
   ]
  },
  {
   "cell_type": "markdown",
   "id": "fffd96ec",
   "metadata": {},
   "source": [
    "### Verbs Near Pronouns (very naive)"
   ]
  },
  {
   "cell_type": "code",
   "execution_count": null,
   "id": "1179c210",
   "metadata": {},
   "outputs": [],
   "source": [
    "\n",
    "def verb_like(word):\n",
    "    # crude heuristic: words ending in common verb suffixes or base forms\n",
    "    return bool(re.match(r\".*(ed|ing|s)$\", word)) or word in {\"say\",\"says\",\"said\",\"go\",\"goes\",\"went\",\"come\",\"comes\",\"came\",\"think\",\"thinks\",\"thought\",\"see\",\"sees\",\"saw\",\"know\",\"knows\",\"knew\"}\n",
    "\n",
    "def verbs_near_pronouns(tokens, window=2):\n",
    "    verbs_for = {'he':[], 'she':[]}\n",
    "    for i,w in enumerate(tokens):\n",
    "        if w in ('he','she'):\n",
    "            for j in range(max(0,i-window), min(len(tokens), i+window+1)):\n",
    "                if j==i: continue\n",
    "                if verb_like(tokens[j]):\n",
    "                    verbs_for[w].append(tokens[j])\n",
    "    return {k: Counter(v).most_common(20) for k,v in verbs_for.items()}\n",
    "\n",
    "print(\"Wondeland:\", verbs_near_pronouns(wonderland_words) )\n",
    "print(\"LookingGlass:\", verbs_near_pronouns(lookingglass_words) )"
   ]
  },
  {
   "cell_type": "markdown",
   "id": "3e818908",
   "metadata": {},
   "source": [
    "**Prompt:** How do these crude patterns line up with character agency and narrative voice? What errors do you notice, and how would POS (Part OF Speech) tagging improve this?"
   ]
  }
 ],
 "metadata": {
  "kernelspec": {
   "display_name": "3.11.3",
   "language": "python",
   "name": "python3"
  },
  "language_info": {
   "codemirror_mode": {
    "name": "ipython",
    "version": 3
   },
   "file_extension": ".py",
   "mimetype": "text/x-python",
   "name": "python",
   "nbconvert_exporter": "python",
   "pygments_lexer": "ipython3",
   "version": "3.11.3"
  }
 },
 "nbformat": 4,
 "nbformat_minor": 5
}
