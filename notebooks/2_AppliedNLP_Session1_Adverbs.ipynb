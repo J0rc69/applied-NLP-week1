{
 "cells": [
  {
   "cell_type": "markdown",
   "id": "c8e71f86",
   "metadata": {},
   "source": [
    "# 2) Adverbs: Do Great Writers Avoid Them?\n",
    "\n",
    "**Goal:** Estimate -ly adverb rate and compare across the two texts."
   ]
  },
  {
   "cell_type": "markdown",
   "id": "8ac061cf",
   "metadata": {},
   "source": [
    "# Setup: Load Texts\n",
    "\n",
    "This notebook needs **Alice in Wonderland** and **Through the Looking-Glass** as input texts.\n",
    "\n",
    "**How to provide the texts:**\n",
    "1. Download books from Project Gutenberg (IDs 11 and 12) as txts. [go to https://www.gutenberg.org/ebooks/11 and https://www.gutenberg.org/ebooks/12]\n",
    "\n",
    "2. Place two text files in the \"data\" folder with names:\n",
    "   - `Wondeland.txt`  (Alice's Adventures in Wonderland)\n",
    "   - `Looking-Glass.txt` (Through the Looking-Glass)"
   ]
  },
  {
   "cell_type": "code",
   "execution_count": null,
   "id": "0842d0e2",
   "metadata": {},
   "outputs": [],
   "source": [
    "import re\n",
    "from pathlib import Path"
   ]
  },
  {
   "cell_type": "code",
   "execution_count": null,
   "id": "b39209a1",
   "metadata": {},
   "outputs": [],
   "source": [
    "\n",
    "def load_texts(local_alice: str = '../data/Wonderland.txt',\n",
    "               local_glass: str = '../data/Looking-Glass.txt'):\n",
    "    \"\"\"Load Wonderland and Looking-Glass texts from disk.\n",
    "\n",
    "    Parameters\n",
    "    ----------\n",
    "    local_alice : str\n",
    "        Path to Wonderland text file. Defaults to '../data/Wonderland.txt'.\n",
    "    local_glass : str\n",
    "        Path to Looking-Glass text file. Defaults to '../data/Looking-Glass.txt'.\n",
    "\n",
    "    Returns\n",
    "    -------\n",
    "    tuple[str, str]\n",
    "        (wonderland_text, lookingglass_text).\n",
    "\n",
    "    Raises\n",
    "    ------\n",
    "    FileNotFoundError\n",
    "        If either file is missing.\n",
    "\n",
    "    Extra Notes\n",
    "    -----------\n",
    "    - Using UTF-8 with `errors='ignore'` avoids codec exceptions on\n",
    "      older Project Gutenberg dumps or inconsistent encodings.\n",
    "    \"\"\"\n",
    "    p1, p2 = Path(local_alice), Path(local_glass)\n",
    "\n",
    "    # Fail fast with a clear message if a file is missing\n",
    "    if not p1.exists():\n",
    "        raise FileNotFoundError(\n",
    "            f\"Missing file: {p1}\\n\"\n",
    "            \"→ Please place 'Wonderland.txt' at this path or update load_texts(...).\"\n",
    "        )\n",
    "    if not p2.exists():\n",
    "        raise FileNotFoundError(\n",
    "            f\"Missing file: {p2}\\n\"\n",
    "            \"→ Please place 'Looking-Glass.txt' at this path or update load_texts(...).\"\n",
    "        )\n",
    "\n",
    "    # Read the files (UTF-8; ignore undecodable bytes to stay robust)\n",
    "    wonderland   = p1.read_text(encoding='utf-8', errors='ignore')\n",
    "    lookingglass = p2.read_text(encoding='utf-8', errors='ignore')\n",
    "    return wonderland, lookingglass\n",
    "\n",
    "def normalize(text: str) -> str:\n",
    "    \"\"\"Normalize a Gutenberg-like text for tokenization.\n",
    "\n",
    "    Steps\n",
    "    -----\n",
    "    1) Heuristically strip Project Gutenberg headers/footers if present\n",
    "       (looks for *** START ... *** END markers).\n",
    "    2) Normalize newlines to '\\n'.\n",
    "\n",
    "    Parameters\n",
    "    ----------\n",
    "    text : str\n",
    "        Raw text as loaded from disk (can be empty).\n",
    "\n",
    "    Returns\n",
    "    -------\n",
    "    str\n",
    "        Cleaned text suitable for tokenization and counting.\n",
    "    \"\"\"\n",
    "    if not text:\n",
    "        return ''\n",
    "    # Clip to the main body if markers are present.\n",
    "    start = text.find('*** START')\n",
    "    end   = text.find('*** END')\n",
    "    if start != -1 and end != -1 and end > start:\n",
    "        text = text[start:end]\n",
    "    # Normalize Windows line endings.\n",
    "    return text.replace('\\r\\n', '\\n')\n",
    "\n",
    "# Load raw texts (forgiving: returns '' if a file is missing)\n",
    "wonderland_raw, lookingglass_raw = load_texts()\n",
    "\n",
    "# Normalize for tokenization\n",
    "wonderland   = normalize(wonderland_raw)\n",
    "lookingglass = normalize(lookingglass_raw)\n",
    "\n",
    "print(f\"Wonderland chars: {len(wonderland):,} | Looking-Glass chars: {len(lookingglass):,}\")\n"
   ]
  },
  {
   "cell_type": "markdown",
   "id": "aff49ca0",
   "metadata": {},
   "source": [
    "### Helpers: Tokenization"
   ]
  },
  {
   "cell_type": "code",
   "execution_count": null,
   "id": "a94529ff",
   "metadata": {},
   "outputs": [],
   "source": [
    "WORD_RE = re.compile(r\"[A-Za-z']+\")  # keep apostrophes in words (e.g., don't -> don't)\n",
    "\n",
    "def words(text: str):\n",
    "    \"\"\"Simple word tokenizer (lowercased, ASCII letters + apostrophes).\n",
    "\n",
    "    Pros\n",
    "    ----\n",
    "    - Very fast and dependency-free.\n",
    "    - Good enough for frequency/keyness demonstrations.\n",
    "\n",
    "    Cons\n",
    "    ----\n",
    "    - No punctuation words, no sentence boundaries, no POS tags.\n",
    "    - May treat possessives inconsistently across sources.\n",
    "\n",
    "    Returns\n",
    "    -------\n",
    "    list[str]\n",
    "        Lowercased word words.\n",
    "    \"\"\"\n",
    "    return WORD_RE.findall(text.lower())\n",
    "\n",
    "\n",
    "def sentences(text: str):\n",
    "    \"\"\"Naive sentence splitter using punctuation boundaries.\n",
    "\n",
    "    Uses a regex to split on '.', '!', '?' followed by whitespace.\n",
    "    Because this is heuristic, treat results as approximate.\n",
    "\n",
    "    Returns\n",
    "    -------\n",
    "    list[str]\n",
    "        Sentence-like strings.\n",
    "    \"\"\"\n",
    "    return [s.strip() for s in re.split(r'(?<=[.!?])\\s+', text) if s.strip()]\n",
    "\n",
    "\n",
    "\n",
    "wonderland_words = words(wonderland)\n",
    "lookingglass_words = words(lookingglass)\n",
    "\n",
    "wonderland_sentences = sentences(wonderland)\n",
    "lookingglass_sentences = sentences(lookingglass)\n",
    "\n",
    "print(f\"Wonderland words: {len(wonderland_words):,} | Looking-Glass words: {len(lookingglass_words):,}\")\n",
    "print(f\"Wonderland sentences: {len(wonderland_sentences):,} | Looking Glass sentences: {len(lookingglass_sentences):,}\")\n"
   ]
  },
  {
   "cell_type": "markdown",
   "id": "78fa5a75",
   "metadata": {},
   "source": [
    "### Estimate -ly Adverb Rate"
   ]
  },
  {
   "cell_type": "code",
   "execution_count": null,
   "id": "76ded3fb",
   "metadata": {},
   "outputs": [],
   "source": [
    "\n",
    "def adverb_rate(words):\n",
    "    adverbs = [w for w in words if w.endswith('ly') and len(w)>2]\n",
    "    return len(adverbs), len(words), (len(adverbs)/len(words))*100\n",
    "\n",
    "a_adv, a_total, a_pct = adverb_rate(wonderland_words)\n",
    "g_adv, g_total, g_pct = adverb_rate(lookingglass_words)\n",
    "print(f\"Wonderland: {a_adv}/{a_total} = {a_pct:.2f}%\")\n",
    "print(f\"Looking Glass: {g_adv}/{g_total} = {g_pct:.2f}%\")\n"
   ]
  },
  {
   "cell_type": "markdown",
   "id": "cb8d6645",
   "metadata": {},
   "source": [
    "**Prompt:** Inspect a sample of detected -ly words. Which are true adverbs vs. adjectives/nouns? How would you refine the rule?"
   ]
  },
  {
   "cell_type": "code",
   "execution_count": null,
   "id": "847682d0",
   "metadata": {},
   "outputs": [],
   "source": [
    "# Show some adverbs from Wonderland\n",
    "adverbs_wonderland = [w for w in wonderland_words if w.endswith('ly') and len(w)>2]\n",
    "print(f\"Wonderland adverbs (first 20): {adverbs_wonderland[:20]}\")"
   ]
  },
  {
   "cell_type": "markdown",
   "id": "8338c94f",
   "metadata": {},
   "source": [
    "Let's use a smarter way to find adverbs:"
   ]
  },
  {
   "cell_type": "code",
   "execution_count": null,
   "id": "f1160296",
   "metadata": {},
   "outputs": [],
   "source": [
    "# Run this cell once\n",
    "import spacy\n",
    "from spacy.cli import download\n",
    "\n",
    "try:\n",
    "    nlp = spacy.load(\"en_core_web_sm\")\n",
    "except OSError:\n",
    "    download(\"en_core_web_sm\")          # downloads the small English model\n",
    "    nlp = spacy.load(\"en_core_web_sm\")  # try again\n"
   ]
  },
  {
   "cell_type": "code",
   "execution_count": null,
   "id": "5ae9ca33",
   "metadata": {},
   "outputs": [],
   "source": [
    "def strip_gutenberg_markup(t: str) -> str:\n",
    "    # remove lone underscores and _italic_ markup\n",
    "    t = re.sub(r\"\\b_+\\b\", \" \", t)\n",
    "    t = re.sub(r\"_([A-Za-z]+)_\", r\"\\1\", t)\n",
    "    return t\n",
    "\n",
    "# 1) Pre-clean, then parse\n",
    "text_clean = strip_gutenberg_markup(wonderland)  # or your variable\n",
    "doc = nlp(text_clean)\n",
    "\n",
    "true_adverbs = [t.text for t in doc if t.pos_ == \"ADV\"]\n",
    "true_adverbs[:20]\n"
   ]
  },
  {
   "cell_type": "code",
   "execution_count": null,
   "id": "84958d70",
   "metadata": {},
   "outputs": [],
   "source": []
  }
 ],
 "metadata": {
  "kernelspec": {
   "display_name": "3.11.3",
   "language": "python",
   "name": "python3"
  },
  "language_info": {
   "codemirror_mode": {
    "name": "ipython",
    "version": 3
   },
   "file_extension": ".py",
   "mimetype": "text/x-python",
   "name": "python",
   "nbconvert_exporter": "python",
   "pygments_lexer": "ipython3",
   "version": "3.11.3"
  }
 },
 "nbformat": 4,
 "nbformat_minor": 5
}
